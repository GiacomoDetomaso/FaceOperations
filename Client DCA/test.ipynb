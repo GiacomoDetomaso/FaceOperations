{
 "cells": [
  {
   "cell_type": "code",
   "execution_count": 3,
   "metadata": {},
   "outputs": [],
   "source": [
    "from requests import post\n",
    "import os"
   ]
  },
  {
   "cell_type": "code",
   "execution_count": 5,
   "metadata": {},
   "outputs": [],
   "source": [
    "payload_list_represent = [\n",
    "    dict(identity='Joe Biden', info='Presidente USA'),\n",
    "    dict(identity='Giacomo Detomaso', info='Studente Uniba'),\n",
    "    dict(identity='Silvio Berlusconi', info='Ex presidente del consiglio dei ministri italiano'),\n",
    "    dict(identity='Lautaro Martinez', info='Calciatore Inter: ATT'),\n",
    "    dict(identity='Edin Dzeko', info='Ex Calciatore Inter: ATT'),\n",
    "    dict(identity='Beppe Marotta', info='AD Inter'),\n",
    "    dict(identity='MGK', info='Rapper turned Rocker'),\n",
    "    dict(identity='Donald Trump', info='Ex Presidente USA'),\n",
    "    dict(identity='Bill Clinton', info='Ex Presidente USA'),\n",
    "    dict(identity='Mike Shinoda', info='Rapper e frontman Linkin Park'),\n",
    "    dict(identity='Romelu Lukaku', info='Calciatore Inter'),\n",
    "    dict(identity='Jordan Lukaku', info='Ex Calciatore Lazio'),\n",
    "    dict(identity='Elon Musk', info='CEO Tesla e SpaceX'),\n",
    "    dict(identity='Leonardo DiCaprio', info='Attore'),\n",
    "    dict(identity='Nicolo Barella', info='Calciatore Inter'),\n",
    "    dict(identity='Jose Mourinho', info='Allenatore Roma'),\n",
    "    dict(identity='Diego Milito', info='Ex calciatore Inter: ATT'),\n",
    "    dict(identity='Samue Eto\\'o', info='Ex calciatore Inter: ATT'),\n",
    "    dict(identity='Simone Inzaghi', info='Allenatore Demoniaco Inter'),\n",
    "    dict(identity='Piero Ausilio', info='DS Inter')\n",
    "]\n",
    "\n",
    "payload_list_verify = [\n",
    "    dict(identity='Joe Biden'),\n",
    "    dict(identity='Giacomo Detomaso'),\n",
    "    dict(identity='Silvio Berlusconi'),\n",
    "    dict(identity='Lautaro Martinez'),\n",
    "    dict(identity='Edin Dzeko'),\n",
    "    dict(identity='Beppe Marotta'),\n",
    "    dict(identity='MGK'),\n",
    "    dict(identity='Donald Trump'),\n",
    "    dict(identity='Bill Clinton'),\n",
    "    dict(identity='Mike Shinoda'),\n",
    "    dict(identity='Romelu Lukaku'),\n",
    "    dict(identity='Jordan Lukaku'),\n",
    "    dict(identity='Elon Musk'),\n",
    "    dict(identity='Leonardo DiCaprio'),\n",
    "    dict(identity='Nicolo Barella'),\n",
    "    dict(identity='Jose Mourinho'),\n",
    "    dict(identity='Diego Milito'),\n",
    "    dict(identity='Samue Eto\\'o'),\n",
    "    dict(identity='Simone Inzaghi'),\n",
    "    dict(identity='Piero Ausilio')\n",
    "]\n",
    "\n",
    "prefix_dataset = 'dataset/'\n",
    "prefix_testdataset_single = 'testdataset/single'\n",
    "prefix_testdataset_mult = 'testdataset/mult'\n",
    "\n",
    "files_list_dataset = [\n",
    "    'img1.jpg',\n",
    "    'img2.jpg',\n",
    "    'img3.jpg',\n",
    "    'img4.webp',\n",
    "    'img5.jpg',\n",
    "    'img6.jpg',\n",
    "    'img7.jpg',\n",
    "    'img8.jpg',\n",
    "    'img9.jpg',\n",
    "    'img10.jpg',\n",
    "    'img11.webp',\n",
    "    'img12.jpg',\n",
    "    'img13.jpg',\n",
    "    'img14.jpg',\n",
    "    'img15.webp',\n",
    "    'img16.jpg',\n",
    "    'img17.webp',\n",
    "    'img18.webp',\n",
    "    'img19.webp',\n",
    "    'img20.jpg'\n",
    "]\n",
    "\n",
    "files_list_testdataset_single = os.listdir(prefix_testdataset_single)\n",
    "files_list_testdataset_mult = os.listdir(prefix_testdataset_mult)"
   ]
  },
  {
   "attachments": {},
   "cell_type": "markdown",
   "metadata": {},
   "source": [
    "## Represent"
   ]
  },
  {
   "cell_type": "code",
   "execution_count": 8,
   "metadata": {},
   "outputs": [
    {
     "name": "stdout",
     "output_type": "stream",
     "text": [
      "1) - {'message': 'Representation generated', 'status': 'success'}\n",
      "2) - {'message': 'Representation generated', 'status': 'success'}\n",
      "3) - {'message': 'Representation generated', 'status': 'success'}\n",
      "4) - {'message': 'Representation generated', 'status': 'success'}\n",
      "5) - {'message': 'Representation generated', 'status': 'success'}\n",
      "6) - {'message': 'Representation generated', 'status': 'success'}\n",
      "7) - {'message': 'Representation generated', 'status': 'success'}\n",
      "8) - {'message': 'Representation generated', 'status': 'success'}\n",
      "9) - {'message': 'Representation generated', 'status': 'success'}\n",
      "10) - {'message': 'Representation generated', 'status': 'success'}\n",
      "11) - {'message': 'Representation generated', 'status': 'success'}\n",
      "12) - {'message': 'Representation generated', 'status': 'success'}\n",
      "13) - {'message': 'Representation generated', 'status': 'success'}\n",
      "14) - {'message': 'Representation generated', 'status': 'success'}\n",
      "15) - {'message': 'Representation generated', 'status': 'success'}\n",
      "16) - {'message': 'Representation generated', 'status': 'success'}\n",
      "17) - {'message': 'Representation generated', 'status': 'success'}\n",
      "18) - {'message': 'Representation generated', 'status': 'success'}\n",
      "19) - {'message': 'Representation generated', 'status': 'success'}\n",
      "20) - {'message': 'Representation generated', 'status': 'success'}\n"
     ]
    }
   ],
   "source": [
    "url = \"https://deepfacecloudapiunibatesi.azurewebsites.net///represent\"\n",
    "\n",
    "for i, payload in enumerate(payload_list_represent):\n",
    "    resp = post(url=url, data=payload, files={\n",
    "        'img': open(os.path.join(prefix_dataset, files_list_dataset[i]), 'rb')})\n",
    "    print(f'{i + 1}) - {resp.json()}')"
   ]
  },
  {
   "attachments": {},
   "cell_type": "markdown",
   "metadata": {},
   "source": [
    "## Identify single"
   ]
  },
  {
   "cell_type": "code",
   "execution_count": 9,
   "metadata": {},
   "outputs": [
    {
     "name": "stdout",
     "output_type": "stream",
     "text": [
      "Processing: 01.jpg\n",
      "1) - {'founded_ids': ['Piero Ausilio - DS Inter'], 'message': 'Representation found', 'status': 'success'}\n",
      "Processing: 02.jpg\n",
      "2) - {'founded_ids': [\"Samue Eto'o - Ex calciatore Inter: ATT\"], 'message': 'Representation found', 'status': 'success'}\n",
      "Processing: 03.jpg\n",
      "3) - {'founded_ids': ['Romelu Lukaku - Calciatore Inter'], 'message': 'Representation found', 'status': 'success'}\n",
      "Processing: 04.jpg\n",
      "4) - {'founded_ids': ['Piero Ausilio - DS Inter'], 'message': 'Representation found', 'status': 'success'}\n",
      "Processing: 05.jpg\n",
      "5) - {'founded_ids': ['Donald Trump - Ex Presidente USA'], 'message': 'Representation found', 'status': 'success'}\n",
      "Processing: 06.jpg\n",
      "6) - {'founded_ids': ['Elon Musk - CEO Tesla e SpaceX'], 'message': 'Representation found', 'status': 'success'}\n",
      "Processing: 07.jpg\n",
      "7) - {'founded_ids': ['Joe Biden - Presidente USA'], 'message': 'Representation found', 'status': 'success'}\n",
      "Processing: 08.jpg\n",
      "8) - {'founded_ids': ['Bill Clinton - Ex Presidente USA'], 'message': 'Representation found', 'status': 'success'}\n",
      "Processing: 09.jpg\n",
      "9) - {'founded_ids': ['Leonardo DiCaprio - Attore'], 'message': 'Representation found', 'status': 'success'}\n",
      "Processing: 10.jpg\n",
      "10) - {'founded_ids': ['Jordan Lukaku - Ex Calciatore Lazio'], 'message': 'Representation found', 'status': 'success'}\n",
      "Processing: 11.jpg\n",
      "11) - {'founded_ids': ['Mike Shinoda - Rapper e frontman Linkin Park'], 'message': 'Representation found', 'status': 'success'}\n",
      "Processing: 12.jpg\n",
      "12) - {'message': 'Cannot find any close representation', 'status': 'fail'}\n",
      "Processing: 13.jpg\n",
      "13) - {'founded_ids': ['Jose Mourinho - Allenatore Roma'], 'message': 'Representation found', 'status': 'success'}\n",
      "Processing: 14.jpg\n",
      "14) - {'founded_ids': ['Giacomo Detomaso - Studente Uniba'], 'message': 'Representation found', 'status': 'success'}\n",
      "Processing: 15.jpg\n",
      "15) - {'founded_ids': ['Joe Biden - Presidente USA'], 'message': 'Representation found', 'status': 'success'}\n",
      "Processing: 16.jpg\n",
      "16) - {'founded_ids': ['Lautaro Martinez - Calciatore Inter: ATT'], 'message': 'Representation found', 'status': 'success'}\n",
      "Processing: 17.jpg\n",
      "17) - {'founded_ids': ['Edin Dzeko - Ex Calciatore Inter: ATT'], 'message': 'Representation found', 'status': 'success'}\n",
      "Processing: 18.jpg\n",
      "18) - {'founded_ids': ['Silvio Berlusconi - Ex presidente del consiglio dei ministri italiano'], 'message': 'Representation found', 'status': 'success'}\n",
      "Processing: 19.jpg\n",
      "19) - {'founded_ids': ['Silvio Berlusconi - Ex presidente del consiglio dei ministri italiano'], 'message': 'Representation found', 'status': 'success'}\n",
      "Processing: 20.jpg\n",
      "20) - {'founded_ids': ['Beppe Marotta - AD Inter'], 'message': 'Representation found', 'status': 'success'}\n",
      "Processing: 21.jpg\n",
      "21) - {'founded_ids': ['MGK - Sellout <3'], 'message': 'Representation found', 'status': 'success'}\n",
      "Processing: 22.jpg\n",
      "22) - {'message': 'Cannot find any close representation', 'status': 'fail'}\n",
      "Processing: 23.jpg\n",
      "23) - {'founded_ids': ['Jose Mourinho - Allenatore Roma'], 'message': 'Representation found', 'status': 'success'}\n",
      "Processing: 24.jpg\n",
      "24) - {'founded_ids': [\"Samue Eto'o - Ex calciatore Inter: ATT\"], 'message': 'Representation found', 'status': 'success'}\n"
     ]
    }
   ],
   "source": [
    "url = \"https://deepfacecloudapiunibatesi.azurewebsites.net//identify\"\n",
    "\n",
    "for i, file in enumerate(files_list_testdataset_single):\n",
    "    print(f'Processing: {file}')\n",
    "    resp = post(url=url, files={\n",
    "        'img': open(os.path.join(prefix_testdataset_single, file), 'rb')})\n",
    "    print(f'{i + 1}) - {resp.json()}')"
   ]
  },
  {
   "attachments": {},
   "cell_type": "markdown",
   "metadata": {},
   "source": [
    "## Identify multiple"
   ]
  },
  {
   "cell_type": "code",
   "execution_count": 6,
   "metadata": {},
   "outputs": [
    {
     "name": "stdout",
     "output_type": "stream",
     "text": [
      "Processing: 01.jpg\n",
      "1) - {'founded_ids': ['Beppe Marotta - AD Inter'], 'message': 'Representation found', 'status': 'success'}\n",
      "Processing: 02.jpg\n",
      "2) - {'founded_ids': ['Diego Milito - Ex calciatore Inter: ATT', 'Edin Dzeko - Ex Calciatore Inter: ATT'], 'message': 'Representation found', 'status': 'success'}\n",
      "Processing: 03.jpg\n",
      "3) - {'founded_ids': ['Lautaro Martinez - Calciatore Inter: ATT', 'Simone Inzaghi - Allenatore Demoniaco Inter'], 'message': 'Representation found', 'status': 'success'}\n",
      "Processing: 04.jpg\n",
      "4) - {'founded_ids': ['Romelu Lukaku - Calciatore Inter', 'Diego Milito - Ex calciatore Inter: ATT', \"Samue Eto'o - Ex calciatore Inter: ATT\"], 'message': 'Representation found', 'status': 'success'}\n",
      "Processing: 05.jpg\n",
      "5) - {'founded_ids': ['Romelu Lukaku - Calciatore Inter', 'Lautaro Martinez - Calciatore Inter: ATT', 'Lautaro Martinez - Calciatore Inter: ATT'], 'message': 'Representation found', 'status': 'success'}\n",
      "Processing: 06.jpg\n",
      "6) - {'founded_ids': ['Piero Ausilio - DS Inter', 'Beppe Marotta - AD Inter'], 'message': 'Representation found', 'status': 'success'}\n",
      "Processing: 07.jpg\n",
      "7) - {'founded_ids': ['Joe Biden - Presidente USA'], 'message': 'Representation found', 'status': 'success'}\n",
      "Processing: 08.jpg\n",
      "8) - {'founded_ids': ['Simone Inzaghi - Allenatore Demoniaco Inter'], 'message': 'Representation found', 'status': 'success'}\n",
      "Processing: 09.jpg\n",
      "9) - {'founded_ids': ['Elon Musk - CEO Tesla e SpaceX'], 'message': 'Representation found', 'status': 'success'}\n",
      "Processing: 10.jpg\n",
      "10) - {'founded_ids': ['MGK - Sellout <3'], 'message': 'Representation found', 'status': 'success'}\n",
      "Processing: 11.jpg\n",
      "11) - {'founded_ids': ['Beppe Marotta - AD Inter'], 'message': 'Representation found', 'status': 'success'}\n",
      "Processing: 12.jpeg\n",
      "12) - {'founded_ids': ['Beppe Marotta - AD Inter'], 'message': 'Representation found', 'status': 'success'}\n",
      "Processing: 12.jpg\n",
      "13) - {'founded_ids': ['Silvio Berlusconi - Ex presidente del consiglio dei ministri italiano'], 'message': 'Representation found', 'status': 'success'}\n",
      "Processing: 13.jpg\n",
      "14) - {'message': 'Cannot find any close representation', 'status': 'fail'}\n",
      "Processing: 14.jpg\n",
      "15) - {'founded_ids': ['Donald Trump - Ex Presidente USA', 'Joe Biden - Presidente USA'], 'message': 'Representation found', 'status': 'success'}\n",
      "Processing: 15.jpg\n",
      "16) - {'founded_ids': ['Romelu Lukaku - Calciatore Inter'], 'message': 'Representation found', 'status': 'success'}\n",
      "Processing: 17.jpg\n",
      "17) - {'founded_ids': ['Jose Mourinho - Allenatore Roma'], 'message': 'Representation found', 'status': 'success'}\n",
      "Processing: 18.jpg\n",
      "18) - {'founded_ids': ['Diego Milito - Ex calciatore Inter: ATT', \"Samue Eto'o - Ex calciatore Inter: ATT\"], 'message': 'Representation found', 'status': 'success'}\n",
      "Processing: 19.jpg\n",
      "19) - {'founded_ids': ['Diego Milito - Ex calciatore Inter: ATT'], 'message': 'Representation found', 'status': 'success'}\n",
      "Processing: 20.jpg\n",
      "20) - {'founded_ids': ['Leonardo DiCaprio - Attore', 'Leonardo DiCaprio - Attore'], 'message': 'Representation found', 'status': 'success'}\n"
     ]
    }
   ],
   "source": [
    "url = \"https://deepfacecloudapiunibatesi.azurewebsites.net//identify\"\n",
    "\n",
    "for i, file in enumerate(files_list_testdataset_mult):\n",
    "    print(f'Processing: {file}')\n",
    "    resp = post(url=url, files={\n",
    "        'img': open(os.path.join(prefix_testdataset_mult, file), 'rb')})\n",
    "    print(f'{i + 1}) - {resp.json()}')"
   ]
  }
 ],
 "metadata": {
  "kernelspec": {
   "display_name": "Tesi",
   "language": "python",
   "name": "python3"
  },
  "language_info": {
   "codemirror_mode": {
    "name": "ipython",
    "version": 3
   },
   "file_extension": ".py",
   "mimetype": "text/x-python",
   "name": "python",
   "nbconvert_exporter": "python",
   "pygments_lexer": "ipython3",
   "version": "3.9.16"
  },
  "orig_nbformat": 4
 },
 "nbformat": 4,
 "nbformat_minor": 2
}
